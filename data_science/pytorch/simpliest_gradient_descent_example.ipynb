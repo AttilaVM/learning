{
 "cells": [
  {
   "cell_type": "markdown",
   "id": "a5621c5a-5411-4869-9647-853d4b83d635",
   "metadata": {},
   "source": [
    "# Autograd engine"
   ]
  },
  {
   "cell_type": "code",
   "execution_count": 1,
   "id": "134515be-5799-4c10-be7e-353aec0589ba",
   "metadata": {},
   "outputs": [],
   "source": [
    "import torch"
   ]
  },
  {
   "cell_type": "code",
   "execution_count": 2,
   "id": "69518a8d-948b-4c8c-bcc8-0ceea62542c4",
   "metadata": {},
   "outputs": [],
   "source": [
    "x = torch.tensor([2.0, 3.0])"
   ]
  },
  {
   "cell_type": "code",
   "execution_count": 3,
   "id": "ba9e8126-0e95-49c9-982d-4cd804cc2327",
   "metadata": {},
   "outputs": [],
   "source": [
    "y = torch.tensor([8.0, 12.0])"
   ]
  },
  {
   "cell_type": "code",
   "execution_count": 4,
   "id": "901c3ef1-df19-46b4-bf55-06b19ed519ac",
   "metadata": {},
   "outputs": [
    {
     "data": {
      "text/plain": [
       "tensor([2., 2.], requires_grad=True)"
      ]
     },
     "execution_count": 4,
     "metadata": {},
     "output_type": "execute_result"
    }
   ],
   "source": [
    "params = torch.tensor([2.0, 2.0], requires_grad=True)\n",
    "params"
   ]
  },
  {
   "cell_type": "code",
   "execution_count": 5,
   "id": "ff5ebf19-267c-42d6-b22e-9466f7a8abc7",
   "metadata": {},
   "outputs": [
    {
     "data": {
      "text/plain": [
       "tensor([4., 6.], grad_fn=<MulBackward0>)"
      ]
     },
     "execution_count": 5,
     "metadata": {},
     "output_type": "execute_result"
    }
   ],
   "source": [
    "M = x * params\n",
    "M"
   ]
  },
  {
   "cell_type": "code",
   "execution_count": 6,
   "id": "a8884d8e-7081-4e98-b4be-2da8cf286382",
   "metadata": {},
   "outputs": [
    {
     "data": {
      "text/plain": [
       "tensor(26., grad_fn=<MeanBackward0>)"
      ]
     },
     "execution_count": 6,
     "metadata": {},
     "output_type": "execute_result"
    }
   ],
   "source": [
    "L = torch.mean(\n",
    "    (y - M)**2\n",
    ")\n",
    "L"
   ]
  },
  {
   "cell_type": "code",
   "execution_count": 7,
   "id": "d8e3d7be-c30d-4459-9f9d-2fd6715b381e",
   "metadata": {},
   "outputs": [],
   "source": [
    "L.backward()"
   ]
  },
  {
   "cell_type": "code",
   "execution_count": 8,
   "id": "9d0d77f9-1e7d-4621-95af-4c49c61ffe35",
   "metadata": {},
   "outputs": [
    {
     "data": {
      "text/plain": [
       "tensor([ -8., -18.])"
      ]
     },
     "execution_count": 8,
     "metadata": {},
     "output_type": "execute_result"
    }
   ],
   "source": [
    "params.grad"
   ]
  },
  {
   "cell_type": "code",
   "execution_count": 9,
   "id": "0efb183d-de35-4ee6-9413-aad7c9ee8a70",
   "metadata": {},
   "outputs": [],
   "source": [
    "LEARNING_RATE = 0.1"
   ]
  },
  {
   "cell_type": "code",
   "execution_count": 10,
   "id": "cb5cafcb-83eb-4f42-9a4a-84b6315cc55e",
   "metadata": {},
   "outputs": [
    {
     "data": {
      "text/plain": [
       "tensor([2.8000, 3.8000])"
      ]
     },
     "execution_count": 10,
     "metadata": {},
     "output_type": "execute_result"
    }
   ],
   "source": [
    "with torch.no_grad():\n",
    "    params = params - LEARNING_RATE * params.grad\n",
    "params"
   ]
  },
  {
   "cell_type": "code",
   "execution_count": 11,
   "id": "a456e60a-a8e0-4b3b-9172-ed959d9908bd",
   "metadata": {},
   "outputs": [
    {
     "data": {
      "text/plain": [
       "tensor([2.8000, 3.8000], requires_grad=True)"
      ]
     },
     "execution_count": 11,
     "metadata": {},
     "output_type": "execute_result"
    }
   ],
   "source": [
    "params.requires_grad_(True)\n",
    "params"
   ]
  },
  {
   "cell_type": "code",
   "execution_count": 12,
   "id": "cc465cea-98b5-424a-a4eb-bdaaafd0c272",
   "metadata": {},
   "outputs": [
    {
     "data": {
      "text/plain": [
       "tensor([ 5.6000, 11.4000], grad_fn=<MulBackward0>)"
      ]
     },
     "execution_count": 12,
     "metadata": {},
     "output_type": "execute_result"
    }
   ],
   "source": [
    "M = x * params\n",
    "M"
   ]
  },
  {
   "cell_type": "code",
   "execution_count": 13,
   "id": "de96ab83-188e-489a-ba68-9c9c29d54ba5",
   "metadata": {},
   "outputs": [
    {
     "data": {
      "text/plain": [
       "tensor(3.0600, grad_fn=<MeanBackward0>)"
      ]
     },
     "execution_count": 13,
     "metadata": {},
     "output_type": "execute_result"
    }
   ],
   "source": [
    "L = torch.mean(\n",
    "    (y - M)**2\n",
    ")\n",
    "L"
   ]
  }
 ],
 "metadata": {
  "kernelspec": {
   "display_name": "Python 3",
   "language": "python",
   "name": "python3"
  },
  "language_info": {
   "codemirror_mode": {
    "name": "ipython",
    "version": 3
   },
   "file_extension": ".py",
   "mimetype": "text/x-python",
   "name": "python",
   "nbconvert_exporter": "python",
   "pygments_lexer": "ipython3",
   "version": "3.7.10"
  }
 },
 "nbformat": 4,
 "nbformat_minor": 5
}
