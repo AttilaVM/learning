{
 "cells": [
  {
   "cell_type": "markdown",
   "id": "da4c8b74-0ed8-499e-974a-5fa97bc3ccfb",
   "metadata": {},
   "source": [
    "# Start database"
   ]
  },
  {
   "cell_type": "markdown",
   "id": "edf527a4-2240-474e-9c4e-7b1d87cd6d17",
   "metadata": {},
   "source": [
    "Set password and port"
   ]
  },
  {
   "cell_type": "code",
   "execution_count": 1,
   "id": "874051cd-eef1-4374-976f-e572eeb73bcf",
   "metadata": {},
   "outputs": [],
   "source": [
    "import getpass"
   ]
  },
  {
   "cell_type": "code",
   "execution_count": null,
   "id": "5482b685-5053-4886-abd4-5072a4445b7a",
   "metadata": {},
   "outputs": [],
   "source": [
    "password = getpass.getpass()\n",
    "port=7777"
   ]
  },
  {
   "cell_type": "markdown",
   "id": "5c84ee71-4e36-4658-baca-4ccb208727fe",
   "metadata": {},
   "source": [
    "Run PostgreSQL container with shell script block\n",
    "\n",
    "The `%%srcipt bash` magic command execute `bash` code in the cell. It can be used with all popular scripting languages, such as `R`, `perl` and many more.\n",
    "\n",
    "- `--bg`: The script will run in the background, without it the executed cell would not give back the control to you until killed. \n",
    "\n",
    "- `-s $password $port` pass the `password` and `port` python variable to the bash script. They can be refered a `\"$1\"` and `\"$2\"` respectivly."
   ]
  },
  {
   "cell_type": "code",
   "execution_count": null,
   "id": "6e6eefbf-5e9d-4bb6-8d7f-f27dfe7f9615",
   "metadata": {},
   "outputs": [],
   "source": [
    "%%script bash --bg -s $password $port\n",
    "set -e -u -o pipefail\n",
    "\n",
    "password=\"$1\"\n",
    "port=\"$2\"\n",
    "\n",
    "test -d data || mkdir data \n",
    "\n",
    "docker run -d \\\n",
    "    --name playground-postgres \\\n",
    "    --rm \\\n",
    "    --shm-size=512m \\\n",
    "    -e POSTGRES_PASSWORD=\"$password\" \\\n",
    "    -e PGDATA=/var/lib/postgresql/data/pgdata \\\n",
    "    -v data:/var/lib/postgresql/data \\\n",
    "    -p \"$port\":5432 \\\n",
    "    postgres"
   ]
  },
  {
   "cell_type": "markdown",
   "id": "24af66bc-5f6c-462d-beba-d4d0c523906c",
   "metadata": {},
   "source": [
    "`set -e -u -o pipefail` bash strict mode makes the script halt:\n",
    " - on any error `-e`, \n",
    " - even in a pipeline `-o pipefail`\n",
    " - undefined variable `-u` (otherwise would be empty a string)\n",
    " \n",
    "Can be written as `set -euo pipefail` for short. Without these options shell scripts can be very dangerous.\n",
    "\n",
    "This script has no pipelines (`command1 | command2`) and has only one command. So the `-e` and `-o piepfail` options cannot have any effect, still it is a best practice too always use them, because the script will maybe modified in the future."
   ]
  },
  {
   "cell_type": "code",
   "execution_count": null,
   "id": "8d2ebc45-ac9a-49fc-9be0-0a7b572a4155",
   "metadata": {},
   "outputs": [],
   "source": [
    "%%script bash\n",
    "\n",
    "docker container ls | grep playground"
   ]
  },
  {
   "cell_type": "markdown",
   "id": "4fff02a8-c62b-43a8-b77d-0a059809c039",
   "metadata": {},
   "source": [
    "Test PostgreSQL access by listing all logical databases"
   ]
  },
  {
   "cell_type": "code",
   "execution_count": null,
   "id": "5e29d11c-c204-4b90-becd-2eba87a374ae",
   "metadata": {},
   "outputs": [],
   "source": [
    "%%script bash\n",
    "set -e -u -o pipefail\n",
    "\n",
    "docker exec \\\n",
    "    -i \\\n",
    "    playground-postgres \\\n",
    "    psql -U postgres << EOF\n",
    "\\l\n",
    "EOF"
   ]
  },
  {
   "cell_type": "markdown",
   "id": "71ecb330-f1cf-4162-a9e1-0896d79ee384",
   "metadata": {},
   "source": [
    "# Load the Pagila sample database"
   ]
  },
  {
   "cell_type": "markdown",
   "id": "c6b43473-9d77-4a36-9e23-82db79fc9cd3",
   "metadata": {},
   "source": [
    "![](./pagila_schema.png)"
   ]
  },
  {
   "cell_type": "code",
   "execution_count": null,
   "id": "1d3201c3-26d3-420e-91d6-227fdca4de96",
   "metadata": {},
   "outputs": [],
   "source": [
    "%%script bash\n",
    "set -e -u -o pipefail\n",
    "\n",
    "docker exec \\\n",
    "    -i \\\n",
    "    playground-postgres \\\n",
    "    bash << EOF\n",
    "set -e -u -o pipefail\n",
    "apt-get update &> /dev/null\n",
    "apt-get install -y curl &> /dev/null\n",
    "createdb -U postgres pagila\n",
    "curl https://raw.githubusercontent.com/morenoh149/postgresDBSamples/master/pagila-0.10.1/pagila-schema.sql | psql -d pagila -U postgres\n",
    "curl https://raw.githubusercontent.com/morenoh149/postgresDBSamples/master/pagila-0.10.1/pagila-data.sql | psql -d pagila -U postgres\n",
    "EOF"
   ]
  },
  {
   "cell_type": "markdown",
   "id": "3cb0fbe4-22b9-426f-9b64-ff5b66bd71e1",
   "metadata": {},
   "source": [
    "# Access to the database with SQLAlchemy"
   ]
  },
  {
   "cell_type": "code",
   "execution_count": null,
   "id": "237cc361-f371-4aa8-9c90-458f3ddfa86f",
   "metadata": {},
   "outputs": [],
   "source": [
    "user = \"postgres\"\n",
    "server = \"localhost\"\n",
    "database = \"pagila\"\n",
    "driver = \"postgres_utf8\"\n",
    "connection_string = f\"postgresql://{user}:{password}@{server}:{port}/{database}\""
   ]
  },
  {
   "cell_type": "code",
   "execution_count": null,
   "id": "be77165d-a03f-47d1-b415-8e189c35b260",
   "metadata": {},
   "outputs": [],
   "source": [
    "import sqlalchemy as sa"
   ]
  },
  {
   "cell_type": "code",
   "execution_count": null,
   "id": "886ffc67-c8f1-4e18-8974-8c91d1fa625e",
   "metadata": {},
   "outputs": [],
   "source": [
    "engine = sa.create_engine(connection_string)\n",
    "engine"
   ]
  },
  {
   "cell_type": "code",
   "execution_count": null,
   "id": "90aba0e0-085e-4733-845f-6dc8d673dfc6",
   "metadata": {},
   "outputs": [],
   "source": [
    "c = engine.connect()"
   ]
  },
  {
   "cell_type": "code",
   "execution_count": null,
   "id": "8d39c6cb-113e-433d-b0e6-fe401aafd2e6",
   "metadata": {},
   "outputs": [],
   "source": [
    "import pandas as pd"
   ]
  },
  {
   "cell_type": "code",
   "execution_count": null,
   "id": "c41203ee-271d-47cd-aadb-3862809ebd51",
   "metadata": {},
   "outputs": [],
   "source": [
    "df_nut_data = pd.read_sql(\n",
    "    \"\"\"\n",
    "    SELECT\n",
    "        *\n",
    "    FROM\n",
    "        actor\n",
    "    LIMIT 10\n",
    "    \"\"\",\n",
    "    c\n",
    ")\n",
    "df_nut_data"
   ]
  },
  {
   "cell_type": "markdown",
   "id": "807c764f-d0c5-4ce3-9979-50a032aee609",
   "metadata": {},
   "source": [
    "# Access to the database with ipython-sql kernel"
   ]
  },
  {
   "cell_type": "markdown",
   "id": "ddd9e86a-ecbe-4453-bb9b-e95623b0898b",
   "metadata": {},
   "source": [
    "ipython-sql kernal uses SQLAlchemy in the background so its need the sam connection string."
   ]
  },
  {
   "cell_type": "code",
   "execution_count": null,
   "id": "32817de9-fbfe-42d6-b50e-dc9584073b88",
   "metadata": {},
   "outputs": [],
   "source": [
    "%load_ext sql\n",
    "%sql $connection_string\n",
    "%config SqlMagic.autopandas=True"
   ]
  },
  {
   "cell_type": "markdown",
   "id": "b2043543-7ab0-4e0a-8532-d2270a78f3dc",
   "metadata": {},
   "source": [
    "List all table in the database"
   ]
  },
  {
   "cell_type": "code",
   "execution_count": null,
   "id": "ceaaf5cc-f303-492a-8791-37250171a500",
   "metadata": {},
   "outputs": [],
   "source": [
    "%sql \\dt"
   ]
  },
  {
   "cell_type": "code",
   "execution_count": null,
   "id": "39cd18ac-b6e4-41cb-b96d-a9015e10cc6c",
   "metadata": {},
   "outputs": [],
   "source": [
    "Read `data_src` table"
   ]
  },
  {
   "cell_type": "code",
   "execution_count": null,
   "id": "c2add6ac-6190-4f71-8069-c6e73f48c537",
   "metadata": {},
   "outputs": [],
   "source": [
    "%%sql\n",
    "\n",
    "SELECT\n",
    "    *\n",
    "FROM\n",
    "    data_src\n",
    "LIMIT 10"
   ]
  },
  {
   "cell_type": "code",
   "execution_count": null,
   "id": "00e3ea84-9e12-4440-b1a9-841810c70d72",
   "metadata": {},
   "outputs": [],
   "source": [
    "Read `data_src` table into a dataframe"
   ]
  },
  {
   "cell_type": "code",
   "execution_count": null,
   "id": "8c68eb8a-6014-454b-9cfa-09a55dff2a55",
   "metadata": {},
   "outputs": [],
   "source": [
    "%%sql df <<\n",
    "\n",
    "SELECT\n",
    "    *\n",
    "FROM\n",
    "    data_src"
   ]
  },
  {
   "cell_type": "code",
   "execution_count": null,
   "id": "2d50e8ba-6194-4e2e-9b16-e1d8972502ca",
   "metadata": {},
   "outputs": [],
   "source": [
    "df"
   ]
  },
  {
   "cell_type": "markdown",
   "id": "292601de-791d-4367-b372-48b898a17d8c",
   "metadata": {},
   "source": [
    "# Stop database"
   ]
  },
  {
   "cell_type": "markdown",
   "id": "a58c5b2a-dcf2-457e-a4fe-0894ccdb2f32",
   "metadata": {},
   "source": [
    "By killing all background scripts"
   ]
  },
  {
   "cell_type": "code",
   "execution_count": null,
   "id": "88e8f546-0ef1-49c3-83ed-a5d140f4fe4f",
   "metadata": {},
   "outputs": [],
   "source": [
    "%%script bash\n",
    "\n",
    "docker container kill playground-postgres"
   ]
  },
  {
   "cell_type": "code",
   "execution_count": null,
   "id": "d74d32dc-5c53-42cb-98f1-1debc2e1cf43",
   "metadata": {},
   "outputs": [],
   "source": [
    "%killbgscripts"
   ]
  },
  {
   "cell_type": "code",
   "execution_count": null,
   "id": "43598db4-a7a5-48e3-a048-c1fd3e083b9b",
   "metadata": {},
   "outputs": [],
   "source": []
  }
 ],
 "metadata": {
  "kernelspec": {
   "display_name": "Python 3",
   "language": "python",
   "name": "python3"
  },
  "language_info": {
   "codemirror_mode": {
    "name": "ipython",
    "version": 3
   },
   "file_extension": ".py",
   "mimetype": "text/x-python",
   "name": "python",
   "nbconvert_exporter": "python",
   "pygments_lexer": "ipython3",
   "version": "3.7.10"
  }
 },
 "nbformat": 4,
 "nbformat_minor": 5
}
